{
 "cells": [
  {
   "cell_type": "code",
   "execution_count": 11,
   "metadata": {},
   "outputs": [],
   "source": [
    "import os \n",
    "import pandas as pd\n",
    "import numpy as np\n",
    "from keras.models import Sequential\n",
    "from keras.layers import Dense, LSTM, Embedding\n",
    "from keras.utils import to_categorical\n",
    "from sklearn.preprocessing import LabelEncoder\n",
    "from sklearn.model_selection import train_test_split\n",
    "import matplotlib.colors as mcolors\n",
    "import matplotlib.pyplot as plt"
   ]
  },
  {
   "cell_type": "code",
   "execution_count": 47,
   "metadata": {},
   "outputs": [],
   "source": [
    "def get_remaining_players_repr(df, current_pick_num):\n",
    "    default_adp = df['ADP'].max() + 10\n",
    "    remaining_players = df[df['pick_num'] >= current_pick_num]\n",
    "    remaining_players = remaining_players.sort_values('ADP')\n",
    "\n",
    "    positions = ['QB', 'RB', 'WR', 'TE', 'DST', 'K']\n",
    "\n",
    "    remaining_repr = {}\n",
    "    for pos in positions:\n",
    "        pos_players = remaining_players[remaining_players['player_pos'] == pos]\n",
    "        pos_count = len(pos_players)\n",
    "        pos_adp_values = pos_players['ADP'].nsmallest(3).tolist()\n",
    "\n",
    "        # If less than 3 players, pad w/ default_adp (max + 10)\n",
    "        while len(pos_adp_values) < 3:\n",
    "            pos_adp_values.append(default_adp)\n",
    "\n",
    "        remaining_repr[pos] = [pos_count] + pos_adp_values\n",
    "    ret_df = pd.DataFrame(remaining_repr).T\n",
    "    return ret_df.values\n",
    "\n",
    "#Representation 2: Accounts for current roster of the team picking \n",
    "\n",
    "#Returns list of team's roster indicating position slots that can be filled \n",
    "# 0 = Slot filled \n",
    "def get_team_roster_repr(df, team_name, current_pick_num):\n",
    "    df = df[df['pick_num'] < current_pick_num]\n",
    "    team_df = df[df['team_name'] == team_name]\n",
    "\n",
    "    positions = {'QB': 0, 'RB': 0, 'WR': 0, 'TE': 0, 'FLEX': 0, 'DST' : 0, 'K' : 0, 'Bench' : 0}\n",
    "    starting_lineup = []\n",
    "    bench = []\n",
    "    team_df = team_df.sort_values('ADP')\n",
    "\n",
    "    for index,row in team_df.iterrows():\n",
    "            pos = row['player_pos']\n",
    "\n",
    "            if ((pos in ['RB', 'WR'] and positions[pos] < 2) or\n",
    "                (pos in ['QB', 'TE', 'DST', 'K'] and positions[pos] < 1)):\n",
    "                positions[pos] += 1\n",
    "            elif (pos == 'RB' and positions[pos] >= 2 and positions['FLEX'] < 1):\n",
    "                positions['FLEX'] += 1\n",
    "\n",
    "            elif (pos == 'WR' and positions[pos] >= 2 and positions['FLEX'] < 1):\n",
    "                positions['FLEX'] += 1\n",
    "            else:\n",
    "                positions['Bench'] += 1\n",
    "\n",
    "    curr_roster = [x for x in positions.values()]\n",
    "    return np.array(curr_roster)\n",
    "\n",
    "#Forms a single state representation based on the two representations \n",
    "def get_state_representation(df, current_pick_num, team_name, max_players=180):\n",
    "    team_roster_repr = get_team_roster_repr(df, team_name, current_pick_num)\n",
    "    remaining_players_repr = get_remaining_players_repr(df, current_pick_num)\n",
    "    state_repr = np.concatenate([team_roster_repr, remaining_players_repr], axis=None)\n",
    "    return state_repr\n",
    "    \n",
    "def get_best_teams(df):\n",
    "    df = df[df['player_pos'] != 'K']\n",
    "    df = df[df['player_pos'] != 'DST']\n",
    "\n",
    "    draft_scores = {}\n",
    "\n",
    "    for team in df['team_name'].unique().tolist():\n",
    "        starting_lineup = []\n",
    "        bench = []\n",
    "        team_df = df[df['team_name'] == f'{team}']\n",
    "        team_df = team_df.sort_values('ADP')\n",
    "        for index,row in team_df.iterrows():\n",
    "            pos = row['player_pos']\n",
    "            positions = {'QB': 0, 'RB': 0, 'WR': 0, 'TE': 0, 'FLEX': 0, 'Bench': 0}\n",
    "\n",
    "            if ((pos in ['RB', 'WR'] and positions[pos] < 2) or\n",
    "                (pos in ['QB', 'TE'] and positions[pos] < 1)):\n",
    "                positions[pos] += 1\n",
    "                starting_lineup.append(row['ADP'])\n",
    "\n",
    "            elif (pos == 'RB' and positions[pos] >= 2 and positions['FLEX'] < 1):\n",
    "                positions['FLEX'] += 1\n",
    "                starting_lineup.append(row['ADP'])\n",
    "\n",
    "            elif (pos == 'WR' and positions[pos] >= 2 and positions['FLEX'] < 1):\n",
    "                positions['FLEX'] += 1\n",
    "                starting_lineup.append(row['ADP'])\n",
    "\n",
    "            else:\n",
    "                positions['Bench'] += 1\n",
    "                bench.append(row['ADP'])\n",
    "        \n",
    "        team_draft_score = sum([i*1.5 for i in starting_lineup]) + sum(bench)\n",
    "        draft_scores[team] =  team_draft_score\n",
    "\n",
    "    draft_score_df = pd.DataFrame.from_dict(draft_scores, orient='index').reset_index()\n",
    "    draft_score_df.columns = ['team_name', 'score']\n",
    "    draft_score_df = draft_score_df.sort_values(by='score', ascending=True)\n",
    "\n",
    "    return list(draft_score_df[:4]['team_name'])\n",
    "\n",
    "def preprocess_data(data_folders):\n",
    "    inputs = []\n",
    "    outputs = []\n",
    "    \n",
    "    inputs_best = []\n",
    "    outputs_best = []\n",
    "\n",
    "    best_teams = []\n",
    "\n",
    "    teams = []\n",
    "\n",
    "    expected_draft_order = (list(range(1, 13)) + list(range(12, 0, -1)))*15\n",
    "    expected_draft_order = expected_draft_order[:int(len(expected_draft_order)/2)]\n",
    "\n",
    "    for folder_path in data_folders:\n",
    "        for filename in os.listdir(folder_path):\n",
    "            if not os.path.isdir(os.path.join(folder_path, filename)):\n",
    "                file_path = os.path.join(folder_path, filename)\n",
    "                df = pd.read_csv(file_path)\n",
    "\n",
    "                best_teams = get_best_teams(df)\n",
    "                \n",
    "                for pick_num in range(1, df['pick_num'].max()):\n",
    "                    # generate the state representation for the current pick\n",
    "                    teamID = expected_draft_order[pick_num - 1]\n",
    "                    state_repr = get_state_representation(df, pick_num, f'Team{teamID}')  # replace team_name with actual team name\n",
    "                    # get the position of the player picked next\n",
    "                    next_pick_pos = df.loc[df['pick_num'] == pick_num+1, 'player_pos'].values[0]\n",
    "                    # store the input-output pair\n",
    "                    inputs.append(state_repr)\n",
    "                    outputs.append(next_pick_pos)\n",
    "                    teams.append(f'Team{teamID}')\n",
    "\n",
    "                    if f'Team{teamID}' in best_teams:\n",
    "                        inputs_best.append(state_repr)\n",
    "                        outputs_best.append(next_pick_pos)\n",
    "                        best_teams.append(f'Team{teamID}')\n",
    "\n",
    "    inputs = np.array(inputs)\n",
    "    outputs = np.array(outputs)\n",
    "    inputs_best = np.array(inputs_best)\n",
    "    outputs_best = np.array(outputs_best)\n",
    "    teams = np.array(teams)\n",
    "    best_teams = np.array(best_teams)\n",
    "\n",
    "    return inputs,outputs,inputs_best,outputs_best,best_teams,teams"
   ]
  },
  {
   "cell_type": "code",
   "execution_count": 48,
   "metadata": {},
   "outputs": [],
   "source": [
    "data_folders = ['./dataset1_12_PPR_15','./dataset2_12_PPR_15']\n",
    "\n",
    "inputs = []\n",
    "outputs = []\n",
    "inputs_best = []\n",
    "outputs_best = []\n",
    "best_teams = []\n",
    "teams = []\n",
    "inputs,outputs,inputs_best,outputs_best,best_teams,teams = preprocess_data(data_folders)\n",
    "\n",
    "# inputs_f = []\n",
    "# outputs_f = []\n",
    "\n",
    "# pos_to_filter_out = [\"K\",\"DST\"]\n",
    "\n",
    "# for input_val, output_val in zip(inputs, outputs):\n",
    "#     if output_val not in pos_to_filter_out:\n",
    "#         inputs_f.append(input_val)\n",
    "#         outputs_f.append(output_val)\n",
    "\n",
    "# inputs_f = np.array(inputs_f)\n",
    "# outputs_f = np.array(outputs_f)"
   ]
  },
  {
   "cell_type": "code",
   "execution_count": 56,
   "metadata": {},
   "outputs": [
    {
     "name": "stdout",
     "output_type": "stream",
     "text": [
      "22733\n",
      "22733\n",
      "7593\n",
      "7593\n",
      "22733\n",
      "63\n"
     ]
    }
   ],
   "source": [
    "inputs = np.load('batch2_12_PPR_15/inputs.npy')\n",
    "outputs = np.load('batch2_12_PPR_15/outputs.npy')\n",
    "inputs_best = np.load('batch2_12_PPR_15/inputs_best.npy')\n",
    "outputs_best = np.load('batch2_12_PPR_15/outputs_best.npy')\n",
    "teams = np.load('batch2_12_PPR_15/teams.npy')\n",
    "best_teams = np.load('batch2_12_PPR_15/best_teams.npy')\n",
    "print(len(inputs))\n",
    "print(len(outputs))\n",
    "print(len(inputs_best))\n",
    "print(len(outputs_best))\n",
    "print(len(teams))\n",
    "print(len(best_teams)) #Need to fix"
   ]
  },
  {
   "cell_type": "code",
   "execution_count": 57,
   "metadata": {},
   "outputs": [
    {
     "name": "stdout",
     "output_type": "stream",
     "text": [
      "1905\n",
      "1905\n"
     ]
    }
   ],
   "source": [
    "indices = np.where(teams == 'Team1')[0]\n",
    "\n",
    "team_1_inputs = inputs[indices]\n",
    "team_1_outputs = outputs[indices]\n",
    "\n",
    "print(len(team_1_inputs))\n",
    "print(len(team_1_outputs))"
   ]
  },
  {
   "attachments": {},
   "cell_type": "markdown",
   "metadata": {},
   "source": [
    "### LSTM Model"
   ]
  },
  {
   "cell_type": "code",
   "execution_count": 58,
   "metadata": {},
   "outputs": [
    {
     "name": "stdout",
     "output_type": "stream",
     "text": [
      "Epoch 1/50\n"
     ]
    },
    {
     "name": "stderr",
     "output_type": "stream",
     "text": [
      "2023-05-30 16:12:56.990554: I tensorflow/core/common_runtime/executor.cc:1197] [/device:CPU:0] (DEBUG INFO) Executor start aborting (this does not indicate an error and you can ignore this message): INVALID_ARGUMENT: You must feed a value for placeholder tensor 'gradients/split_2_grad/concat/split_2/split_dim' with dtype int32\n",
      "\t [[{{node gradients/split_2_grad/concat/split_2/split_dim}}]]\n",
      "2023-05-30 16:12:56.992734: I tensorflow/core/common_runtime/executor.cc:1197] [/device:CPU:0] (DEBUG INFO) Executor start aborting (this does not indicate an error and you can ignore this message): INVALID_ARGUMENT: You must feed a value for placeholder tensor 'gradients/split_grad/concat/split/split_dim' with dtype int32\n",
      "\t [[{{node gradients/split_grad/concat/split/split_dim}}]]\n",
      "2023-05-30 16:12:56.995143: I tensorflow/core/common_runtime/executor.cc:1197] [/device:CPU:0] (DEBUG INFO) Executor start aborting (this does not indicate an error and you can ignore this message): INVALID_ARGUMENT: You must feed a value for placeholder tensor 'gradients/split_1_grad/concat/split_1/split_dim' with dtype int32\n",
      "\t [[{{node gradients/split_1_grad/concat/split_1/split_dim}}]]\n",
      "2023-05-30 16:12:57.797407: I tensorflow/core/common_runtime/executor.cc:1197] [/device:CPU:0] (DEBUG INFO) Executor start aborting (this does not indicate an error and you can ignore this message): INVALID_ARGUMENT: You must feed a value for placeholder tensor 'gradients/split_2_grad/concat/split_2/split_dim' with dtype int32\n",
      "\t [[{{node gradients/split_2_grad/concat/split_2/split_dim}}]]\n",
      "2023-05-30 16:12:57.800970: I tensorflow/core/common_runtime/executor.cc:1197] [/device:CPU:0] (DEBUG INFO) Executor start aborting (this does not indicate an error and you can ignore this message): INVALID_ARGUMENT: You must feed a value for placeholder tensor 'gradients/split_grad/concat/split/split_dim' with dtype int32\n",
      "\t [[{{node gradients/split_grad/concat/split/split_dim}}]]\n",
      "2023-05-30 16:12:57.804045: I tensorflow/core/common_runtime/executor.cc:1197] [/device:CPU:0] (DEBUG INFO) Executor start aborting (this does not indicate an error and you can ignore this message): INVALID_ARGUMENT: You must feed a value for placeholder tensor 'gradients/split_1_grad/concat/split_1/split_dim' with dtype int32\n",
      "\t [[{{node gradients/split_1_grad/concat/split_1/split_dim}}]]\n",
      "2023-05-30 16:12:59.184372: I tensorflow/core/common_runtime/executor.cc:1197] [/device:CPU:0] (DEBUG INFO) Executor start aborting (this does not indicate an error and you can ignore this message): INVALID_ARGUMENT: You must feed a value for placeholder tensor 'gradients/split_2_grad/concat/split_2/split_dim' with dtype int32\n",
      "\t [[{{node gradients/split_2_grad/concat/split_2/split_dim}}]]\n",
      "2023-05-30 16:12:59.187519: I tensorflow/core/common_runtime/executor.cc:1197] [/device:CPU:0] (DEBUG INFO) Executor start aborting (this does not indicate an error and you can ignore this message): INVALID_ARGUMENT: You must feed a value for placeholder tensor 'gradients/split_grad/concat/split/split_dim' with dtype int32\n",
      "\t [[{{node gradients/split_grad/concat/split/split_dim}}]]\n",
      "2023-05-30 16:12:59.190305: I tensorflow/core/common_runtime/executor.cc:1197] [/device:CPU:0] (DEBUG INFO) Executor start aborting (this does not indicate an error and you can ignore this message): INVALID_ARGUMENT: You must feed a value for placeholder tensor 'gradients/split_1_grad/concat/split_1/split_dim' with dtype int32\n",
      "\t [[{{node gradients/split_1_grad/concat/split_1/split_dim}}]]\n"
     ]
    },
    {
     "name": "stdout",
     "output_type": "stream",
     "text": [
      "31/34 [==========================>...] - ETA: 0s - loss: 1.5474 - accuracy: 0.4315"
     ]
    },
    {
     "name": "stderr",
     "output_type": "stream",
     "text": [
      "2023-05-30 16:13:01.784023: I tensorflow/core/common_runtime/executor.cc:1197] [/device:CPU:0] (DEBUG INFO) Executor start aborting (this does not indicate an error and you can ignore this message): INVALID_ARGUMENT: You must feed a value for placeholder tensor 'gradients/split_2_grad/concat/split_2/split_dim' with dtype int32\n",
      "\t [[{{node gradients/split_2_grad/concat/split_2/split_dim}}]]\n",
      "2023-05-30 16:13:01.787243: I tensorflow/core/common_runtime/executor.cc:1197] [/device:CPU:0] (DEBUG INFO) Executor start aborting (this does not indicate an error and you can ignore this message): INVALID_ARGUMENT: You must feed a value for placeholder tensor 'gradients/split_grad/concat/split/split_dim' with dtype int32\n",
      "\t [[{{node gradients/split_grad/concat/split/split_dim}}]]\n",
      "2023-05-30 16:13:01.789759: I tensorflow/core/common_runtime/executor.cc:1197] [/device:CPU:0] (DEBUG INFO) Executor start aborting (this does not indicate an error and you can ignore this message): INVALID_ARGUMENT: You must feed a value for placeholder tensor 'gradients/split_1_grad/concat/split_1/split_dim' with dtype int32\n",
      "\t [[{{node gradients/split_1_grad/concat/split_1/split_dim}}]]\n"
     ]
    },
    {
     "name": "stdout",
     "output_type": "stream",
     "text": [
      "34/34 [==============================] - 5s 31ms/step - loss: 1.5465 - accuracy: 0.4278 - val_loss: 1.3653 - val_accuracy: 0.5169\n",
      "Epoch 2/50\n",
      "34/34 [==============================] - 0s 5ms/step - loss: 1.2906 - accuracy: 0.5413 - val_loss: 1.2317 - val_accuracy: 0.5281\n",
      "Epoch 3/50\n",
      "34/34 [==============================] - 0s 5ms/step - loss: 1.2144 - accuracy: 0.5460 - val_loss: 1.1932 - val_accuracy: 0.5468\n",
      "Epoch 4/50\n",
      "34/34 [==============================] - 0s 4ms/step - loss: 1.1770 - accuracy: 0.5488 - val_loss: 1.1895 - val_accuracy: 0.5431\n",
      "Epoch 5/50\n",
      "34/34 [==============================] - 0s 4ms/step - loss: 1.1589 - accuracy: 0.5497 - val_loss: 1.1554 - val_accuracy: 0.5431\n",
      "Epoch 6/50\n",
      "34/34 [==============================] - 0s 4ms/step - loss: 1.1469 - accuracy: 0.5469 - val_loss: 1.1480 - val_accuracy: 0.5431\n",
      "Epoch 7/50\n",
      "34/34 [==============================] - 0s 4ms/step - loss: 1.1397 - accuracy: 0.5488 - val_loss: 1.1358 - val_accuracy: 0.5468\n",
      "Epoch 8/50\n",
      "34/34 [==============================] - 0s 4ms/step - loss: 1.1398 - accuracy: 0.5460 - val_loss: 1.1286 - val_accuracy: 0.5506\n",
      "Epoch 9/50\n",
      "34/34 [==============================] - 0s 4ms/step - loss: 1.1192 - accuracy: 0.5450 - val_loss: 1.1216 - val_accuracy: 0.5468\n",
      "Epoch 10/50\n",
      "34/34 [==============================] - 0s 4ms/step - loss: 1.1192 - accuracy: 0.5441 - val_loss: 1.1162 - val_accuracy: 0.5543\n",
      "Epoch 11/50\n",
      "34/34 [==============================] - 0s 5ms/step - loss: 1.1100 - accuracy: 0.5553 - val_loss: 1.1089 - val_accuracy: 0.5543\n",
      "Epoch 12/50\n",
      "34/34 [==============================] - 0s 4ms/step - loss: 1.1069 - accuracy: 0.5516 - val_loss: 1.1026 - val_accuracy: 0.5543\n",
      "Epoch 13/50\n",
      "34/34 [==============================] - 0s 4ms/step - loss: 1.1069 - accuracy: 0.5385 - val_loss: 1.0914 - val_accuracy: 0.5543\n",
      "Epoch 14/50\n",
      "34/34 [==============================] - 0s 4ms/step - loss: 1.1088 - accuracy: 0.5525 - val_loss: 1.0890 - val_accuracy: 0.5543\n",
      "Epoch 15/50\n",
      "34/34 [==============================] - 0s 4ms/step - loss: 1.1014 - accuracy: 0.5497 - val_loss: 1.1016 - val_accuracy: 0.5506\n",
      "Epoch 16/50\n",
      "34/34 [==============================] - 0s 4ms/step - loss: 1.0982 - accuracy: 0.5394 - val_loss: 1.0992 - val_accuracy: 0.5431\n",
      "Epoch 17/50\n",
      "34/34 [==============================] - 0s 5ms/step - loss: 1.1091 - accuracy: 0.5366 - val_loss: 1.0969 - val_accuracy: 0.5506\n",
      "Epoch 18/50\n",
      "34/34 [==============================] - 0s 6ms/step - loss: 1.1016 - accuracy: 0.5441 - val_loss: 1.0924 - val_accuracy: 0.5506\n",
      "Epoch 19/50\n",
      "34/34 [==============================] - 0s 5ms/step - loss: 1.0920 - accuracy: 0.5441 - val_loss: 1.0859 - val_accuracy: 0.5468\n",
      "Epoch 20/50\n",
      "34/34 [==============================] - 0s 4ms/step - loss: 1.0898 - accuracy: 0.5497 - val_loss: 1.0966 - val_accuracy: 0.5393\n",
      "Epoch 21/50\n",
      "34/34 [==============================] - 0s 4ms/step - loss: 1.0849 - accuracy: 0.5469 - val_loss: 1.0777 - val_accuracy: 0.5543\n",
      "Epoch 22/50\n",
      "34/34 [==============================] - 0s 4ms/step - loss: 1.0862 - accuracy: 0.5488 - val_loss: 1.0867 - val_accuracy: 0.5506\n",
      "Epoch 23/50\n",
      "34/34 [==============================] - 0s 4ms/step - loss: 1.0898 - accuracy: 0.5516 - val_loss: 1.0940 - val_accuracy: 0.5506\n",
      "Epoch 24/50\n",
      "34/34 [==============================] - 0s 4ms/step - loss: 1.0854 - accuracy: 0.5516 - val_loss: 1.0778 - val_accuracy: 0.5506\n",
      "Epoch 25/50\n",
      "34/34 [==============================] - 0s 4ms/step - loss: 1.0831 - accuracy: 0.5478 - val_loss: 1.0883 - val_accuracy: 0.5506\n",
      "Epoch 26/50\n",
      "34/34 [==============================] - 0s 4ms/step - loss: 1.0823 - accuracy: 0.5507 - val_loss: 1.0902 - val_accuracy: 0.5543\n",
      "Epoch 27/50\n",
      "34/34 [==============================] - 0s 4ms/step - loss: 1.0816 - accuracy: 0.5488 - val_loss: 1.0815 - val_accuracy: 0.5356\n",
      "Epoch 28/50\n",
      "34/34 [==============================] - 0s 4ms/step - loss: 1.0749 - accuracy: 0.5488 - val_loss: 1.0766 - val_accuracy: 0.5468\n",
      "Epoch 29/50\n",
      "34/34 [==============================] - 0s 4ms/step - loss: 1.0687 - accuracy: 0.5488 - val_loss: 1.0697 - val_accuracy: 0.5506\n",
      "Epoch 30/50\n",
      "34/34 [==============================] - 0s 4ms/step - loss: 1.0638 - accuracy: 0.5497 - val_loss: 1.0634 - val_accuracy: 0.5468\n",
      "Epoch 31/50\n",
      "34/34 [==============================] - 0s 4ms/step - loss: 1.0659 - accuracy: 0.5488 - val_loss: 1.0617 - val_accuracy: 0.5506\n",
      "Epoch 32/50\n",
      "34/34 [==============================] - 0s 4ms/step - loss: 1.0603 - accuracy: 0.5488 - val_loss: 1.0570 - val_accuracy: 0.5356\n",
      "Epoch 33/50\n",
      "34/34 [==============================] - 0s 4ms/step - loss: 1.0552 - accuracy: 0.5516 - val_loss: 1.0601 - val_accuracy: 0.5393\n",
      "Epoch 34/50\n",
      "34/34 [==============================] - 0s 5ms/step - loss: 1.0569 - accuracy: 0.5553 - val_loss: 1.0535 - val_accuracy: 0.5468\n",
      "Epoch 35/50\n",
      "34/34 [==============================] - 0s 4ms/step - loss: 1.0592 - accuracy: 0.5507 - val_loss: 1.0727 - val_accuracy: 0.5506\n",
      "Epoch 36/50\n",
      "34/34 [==============================] - 0s 4ms/step - loss: 1.0643 - accuracy: 0.5488 - val_loss: 1.0657 - val_accuracy: 0.5506\n",
      "Epoch 37/50\n",
      "34/34 [==============================] - 0s 4ms/step - loss: 1.0634 - accuracy: 0.5488 - val_loss: 1.0598 - val_accuracy: 0.5506\n",
      "Epoch 38/50\n",
      "34/34 [==============================] - 0s 4ms/step - loss: 1.0562 - accuracy: 0.5525 - val_loss: 1.0577 - val_accuracy: 0.5506\n",
      "Epoch 39/50\n",
      "34/34 [==============================] - 0s 4ms/step - loss: 1.0559 - accuracy: 0.5507 - val_loss: 1.0656 - val_accuracy: 0.5543\n",
      "Epoch 40/50\n",
      "34/34 [==============================] - 0s 5ms/step - loss: 1.0573 - accuracy: 0.5497 - val_loss: 1.0660 - val_accuracy: 0.5431\n",
      "Epoch 41/50\n",
      "34/34 [==============================] - 0s 6ms/step - loss: 1.0520 - accuracy: 0.5507 - val_loss: 1.0619 - val_accuracy: 0.5506\n",
      "Epoch 42/50\n",
      "34/34 [==============================] - 0s 4ms/step - loss: 1.0560 - accuracy: 0.5497 - val_loss: 1.0632 - val_accuracy: 0.5543\n",
      "Epoch 43/50\n",
      "34/34 [==============================] - 0s 4ms/step - loss: 1.0495 - accuracy: 0.5535 - val_loss: 1.0557 - val_accuracy: 0.5393\n",
      "Epoch 44/50\n",
      "34/34 [==============================] - 0s 4ms/step - loss: 1.0441 - accuracy: 0.5535 - val_loss: 1.0533 - val_accuracy: 0.5431\n",
      "Epoch 45/50\n",
      "34/34 [==============================] - 0s 4ms/step - loss: 1.0420 - accuracy: 0.5544 - val_loss: 1.0509 - val_accuracy: 0.5506\n",
      "Epoch 46/50\n",
      "34/34 [==============================] - 0s 4ms/step - loss: 1.0426 - accuracy: 0.5525 - val_loss: 1.0592 - val_accuracy: 0.5506\n",
      "Epoch 47/50\n",
      "34/34 [==============================] - 0s 4ms/step - loss: 1.0476 - accuracy: 0.5535 - val_loss: 1.0534 - val_accuracy: 0.5431\n",
      "Epoch 48/50\n",
      "34/34 [==============================] - 0s 4ms/step - loss: 1.0438 - accuracy: 0.5553 - val_loss: 1.0497 - val_accuracy: 0.5468\n",
      "Epoch 49/50\n",
      "34/34 [==============================] - 0s 4ms/step - loss: 1.0426 - accuracy: 0.5525 - val_loss: 1.0513 - val_accuracy: 0.5468\n",
      "Epoch 50/50\n",
      "34/34 [==============================] - 0s 4ms/step - loss: 1.0492 - accuracy: 0.5525 - val_loss: 1.0614 - val_accuracy: 0.5468\n",
      "18/18 [==============================] - 0s 2ms/step - loss: 1.0589 - accuracy: 0.5594\n",
      "Test loss: 1.0589184761047363\n",
      "Test accuracy: 0.559440553188324\n"
     ]
    }
   ],
   "source": [
    "X_train, X_test, y_train, y_test = train_test_split(team_1_inputs, team_1_outputs, test_size=0.3, random_state=42)\n",
    "\n",
    "X_train, X_val, y_train, y_val = train_test_split(X_train, y_train, test_size=0.2, random_state=42)\n",
    "\n",
    "X_train = X_train.reshape((X_train.shape[0], 1, X_train.shape[1]))\n",
    "X_val = X_val.reshape((X_val.shape[0], 1, X_val.shape[1]))\n",
    "X_test = X_test.reshape((X_test.shape[0], 1, X_test.shape[1]))\n",
    "\n",
    "encoder = LabelEncoder()\n",
    "y_train_encoded = encoder.fit_transform(y_train)\n",
    "y_val_encoded = encoder.transform(y_val)\n",
    "y_test_encoded = encoder.transform(y_test)\n",
    "y_train_encoded = to_categorical(y_train_encoded)\n",
    "y_val_encoded = to_categorical(y_val_encoded)\n",
    "y_test_encoded = to_categorical(y_test_encoded)\n",
    "\n",
    "model = Sequential()\n",
    "model.add(LSTM(100, input_shape=(X_train.shape[1], X_train.shape[2])))\n",
    "model.add(Dense(y_train_encoded.shape[1], activation='softmax'))\n",
    "\n",
    "model.compile(loss='categorical_crossentropy', optimizer='adam', metrics=['accuracy'])\n",
    "\n",
    "history = model.fit(X_train, y_train_encoded, epochs=50, validation_data=(X_val, y_val_encoded))\n",
    "\n",
    "loss, accuracy = model.evaluate(X_test, y_test_encoded)\n",
    "\n",
    "print(f'Test loss: {loss}')\n",
    "print(f'Test accuracy: {accuracy}')\n"
   ]
  },
  {
   "cell_type": "code",
   "execution_count": 60,
   "metadata": {},
   "outputs": [
    {
     "name": "stdout",
     "output_type": "stream",
     "text": [
      "18/18 [==============================] - 0s 2ms/step\n",
      "Top-2 accuracy: 82.87%\n"
     ]
    }
   ],
   "source": [
    "y_pred = model.predict(X_test)\n",
    "\n",
    "top_two_pred = np.argsort(y_pred, axis=-1)[:, -2:]\n",
    "\n",
    "y_test_class_indices = np.argmax(y_test_encoded, axis=-1)\n",
    "\n",
    "correct = [y in pred for y, pred in zip(y_test_class_indices, top_two_pred)]\n",
    "accuracy = np.mean(correct)\n",
    "\n",
    "print(f'Top-2 accuracy: {accuracy * 100:.2f}%')"
   ]
  },
  {
   "cell_type": "code",
   "execution_count": 61,
   "metadata": {},
   "outputs": [
    {
     "name": "stdout",
     "output_type": "stream",
     "text": [
      "18/18 [==============================] - 0s 2ms/step\n"
     ]
    },
    {
     "data": {
      "image/png": "[encoded data removed]",
      "text/plain": [
       "<Figure size 640x480 with 2 Axes>"
      ]
     },
     "metadata": {},
     "output_type": "display_data"
    }
   ],
   "source": [
    "from sklearn.metrics import confusion_matrix, ConfusionMatrixDisplay\n",
    "import matplotlib.pyplot as plt\n",
    "\n",
    "y_pred_raw = model.predict(X_test)\n",
    "y_pred = np.argmax(y_pred_raw, axis=-1)\n",
    "\n",
    "cm = confusion_matrix(y_test_encoded.argmax(axis=1), y_pred)\n",
    "\n",
    "disp = ConfusionMatrixDisplay(confusion_matrix=cm, display_labels=encoder.classes_)\n",
    "disp.plot(include_values=True, cmap='viridis', ax=None, xticks_rotation='horizontal')\n",
    "plt.show()\n"
   ]
  },
  {
   "attachments": {},
   "cell_type": "markdown",
   "metadata": {},
   "source": [
    "### Random Forest Model"
   ]
  },
  {
   "cell_type": "code",
   "execution_count": 98,
   "metadata": {},
   "outputs": [
    {
     "name": "stdout",
     "output_type": "stream",
     "text": [
      "CV Accuracy: 0.624 (0.031)\n",
      "Test Accuracy: 0.6468531468531469\n",
      "Top-2 accuracy: 90.91%\n"
     ]
    }
   ],
   "source": [
    "from sklearn.ensemble import RandomForestClassifier\n",
    "from sklearn.preprocessing import LabelEncoder\n",
    "from sklearn.model_selection import KFold, cross_val_score, train_test_split\n",
    "from sklearn.metrics import confusion_matrix\n",
    "from sklearn.metrics import ConfusionMatrixDisplay\n",
    "import matplotlib.pyplot as plt\n",
    "\n",
    "inputs_train, inputs_test, outputs_train, outputs_test = train_test_split(team_1_inputs, team_1_outputs, test_size=0.3, random_state=42)\n",
    "\n",
    "encoder = LabelEncoder()\n",
    "outputs_train_encoded = encoder.fit_transform(outputs_train)\n",
    "outputs_test_encoded = encoder.transform(outputs_test)\n",
    "\n",
    "cv = KFold(n_splits=10, random_state=1, shuffle=True)\n",
    "\n",
    "class_weights = {encoder.transform(['QB'])[0]: 4, \n",
    "                 encoder.transform(['TE'])[0]: 5}\n",
    "\n",
    "model = RandomForestClassifier(n_estimators=100, class_weight=class_weights, random_state=42)\n",
    "# model = RandomForestClassifier(n_estimators=100, random_state=42)\n",
    "\n",
    "scores = cross_val_score(model, inputs_train, outputs_train_encoded, scoring='accuracy', cv=cv, n_jobs=-1)\n",
    "\n",
    "print('CV Accuracy: %.3f (%.3f)' % (np.mean(scores), np.std(scores)))\n",
    "\n",
    "model.fit(inputs_train, outputs_train_encoded)\n",
    "\n",
    "test_accuracy = model.score(inputs_test, outputs_test_encoded)\n",
    "\n",
    "print(f'Test Accuracy: {test_accuracy}')\n",
    "\n",
    "probabilities = model.predict_proba(inputs_test)\n",
    "\n",
    "top_two_pred = np.argsort(probabilities, axis=1)[:, -2:]\n",
    "\n",
    "correct = [y in pred for y, pred in zip(outputs_test_encoded, top_two_pred)]\n",
    "accuracy = np.mean(correct)\n",
    "\n",
    "print(f'Top-2 accuracy: {accuracy * 100:.2f}%')"
   ]
  },
  {
   "attachments": {},
   "cell_type": "markdown",
   "metadata": {},
   "source": [
    "CV Accuracy: 0.592 (0.010)\n",
    "\n",
    "Test Accuracy: 0.6131964809384164\n",
    "\n",
    "Top-2 accuracy: 86.17%\n",
    "\n",
    "Accuracy for class 'DST': 80.77%\n",
    "\n",
    "Accuracy for class 'K': 52.17%\n",
    "\n",
    "Accuracy for class 'QB': 40.91%\n",
    "\n",
    "Accuracy for class 'RB': 57.06%\n",
    "\n",
    "Accuracy for class 'TE': 35.56%\n",
    "\n",
    "Accuracy for class 'WR': 76.73%"
   ]
  },
  {
   "cell_type": "code",
   "execution_count": 99,
   "metadata": {},
   "outputs": [
    {
     "name": "stdout",
     "output_type": "stream",
     "text": [
      "Accuracy for class 'DST': 80.77%\n",
      "Accuracy for class 'K': 52.17%\n",
      "Accuracy for class 'QB': 40.91%\n",
      "Accuracy for class 'RB': 57.67%\n",
      "Accuracy for class 'TE': 33.33%\n",
      "Accuracy for class 'WR': 77.14%\n"
     ]
    },
    {
     "data": {
      "image/png": "[encoded data removed]",
      "text/plain": [
       "<Figure size 640x480 with 2 Axes>"
      ]
     },
     "metadata": {},
     "output_type": "display_data"
    }
   ],
   "source": [
    "\n",
    "test_predictions = model.predict(inputs_test)\n",
    "cm = confusion_matrix(outputs_test_encoded, test_predictions)\n",
    "total_per_class = np.sum(cm, axis=1)\n",
    "correct_per_class = np.diag(cm)\n",
    "accuracy_per_class = correct_per_class / total_per_class * 100\n",
    "\n",
    "for i, class_label in enumerate(encoder.classes_):\n",
    "    print(f\"Accuracy for class '{class_label}': {accuracy_per_class[i]:.2f}%\")\n",
    "\n",
    "disp = ConfusionMatrixDisplay(confusion_matrix=cm, display_labels=encoder.classes_)\n",
    "disp.plot(cmap='viridis')\n",
    "\n",
    "plt.show()"
   ]
  },
  {
   "cell_type": "code",
   "execution_count": 100,
   "metadata": {},
   "outputs": [
    {
     "name": "stdout",
     "output_type": "stream",
     "text": [
      "Percentage of times misclassified class 'DST' is in the top 2 predictions: 70.00%\n",
      "Percentage of times misclassified class 'K' is in the top 2 predictions: 100.00%\n",
      "Percentage of times misclassified class 'QB' is in the top 2 predictions: 42.31%\n",
      "Percentage of times misclassified class 'RB' is in the top 2 predictions: 81.16%\n",
      "Percentage of times misclassified class 'TE' is in the top 2 predictions: 60.00%\n",
      "Percentage of times misclassified class 'WR' is in the top 2 predictions: 83.93%\n"
     ]
    }
   ],
   "source": [
    "misclassified_top_two_counts = {label: 0 for label in encoder.classes_}\n",
    "\n",
    "misclassified_counts = {label: 0 for label in encoder.classes_}\n",
    "\n",
    "predicted_classes = model.predict(inputs_test)\n",
    "\n",
    "for true_class, pred_class, pred in zip(outputs_test_encoded, predicted_classes, top_two_pred):\n",
    "    if true_class != pred_class:\n",
    "        class_label = encoder.inverse_transform([true_class])[0]\n",
    "        misclassified_counts[class_label] += 1\n",
    "        if true_class in pred:\n",
    "            misclassified_top_two_counts[class_label] += 1\n",
    "\n",
    "top_two_percentages = {label: (misclassified_top_two_counts[label] / misclassified_counts[label]) * 100 if misclassified_counts[label] > 0 else 0 for label in encoder.classes_}\n",
    "\n",
    "for class_label, percentage in top_two_percentages.items():\n",
    "    print(f\"Percentage of times misclassified class '{class_label}' is in the top 2 predictions: {percentage:.2f}%\")"
   ]
  },
  {
   "cell_type": "code",
   "execution_count": 28,
   "metadata": {},
   "outputs": [
    {
     "data": {
      "image/png": "[encoded data removed]",
      "text/plain": [
       "<Figure size 640x480 with 1 Axes>"
      ]
     },
     "metadata": {},
     "output_type": "display_data"
    }
   ],
   "source": [
    "\n",
    "batch1_best_team_distribution = np.load('batch1_12_PPR_15/best_teams.npy')\n",
    "\n",
    "unique_values, counts = np.unique(batch1_best_team_distribution, return_counts=True)\n",
    "\n",
    "plt.bar(unique_values, counts)\n",
    "\n",
    "for i, count in enumerate(counts):\n",
    "    plt.text(unique_values[i], count, str(count), ha='center', va='bottom')\n",
    "\n",
    "plt.ylabel('Frequency')\n",
    "\n",
    "plt.xticks(rotation=90)\n",
    "\n",
    "plt.show()"
   ]
  }
 ],
 "metadata": {
  "kernelspec": {
   "display_name": "balls",
   "language": "python",
   "name": "python3"
  },
  "language_info": {
   "codemirror_mode": {
    "name": "ipython",
    "version": 3
   },
   "file_extension": ".py",
   "mimetype": "text/x-python",
   "name": "python",
   "nbconvert_exporter": "python",
   "pygments_lexer": "ipython3",
   "version": "3.11.3"
  },
  "orig_nbformat": 4
 },
 "nbformat": 4,
 "nbformat_minor": 2
}
